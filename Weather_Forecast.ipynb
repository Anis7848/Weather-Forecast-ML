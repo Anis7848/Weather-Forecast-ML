{
 "cells": [
  {
   "cell_type": "markdown",
   "id": "c78812be-a3fc-4868-b1d8-e72148e1cbf8",
   "metadata": {
    "tags": []
   },
   "source": [
    "!pip install pandas matplotlib prophet requests python-dotenv\n",
    "|"
   ]
  },
  {
   "cell_type": "code",
   "execution_count": 7,
   "id": "8ebf3925",
   "metadata": {
    "tags": []
   },
   "outputs": [],
   "source": [
    "import pandas as pd\n",
    "import matplotlib.pyplot as plt\n",
    "from prophet import Prophet\n",
    "from dotenv import load_dotenv\n",
    "import os, requests"
   ]
  },
  {
   "cell_type": "code",
   "execution_count": 8,
   "id": "ffc477af-a38a-4d67-bceb-4cd62ca9b443",
   "metadata": {
    "tags": []
   },
   "outputs": [
    {
     "name": "stdout",
     "output_type": "stream",
     "text": [
      "Columns: ['date', 'Rainfall', 'Temperature (C)', 'Humidity', 'Wind Speed (km/h)', 'Visibility (km)', 'Pressure (millibars)']\n",
      "Shape after cleaning: (96453, 7)\n"
     ]
    },
    {
     "data": {
      "text/html": [
       "<div>\n",
       "<style scoped>\n",
       "    .dataframe tbody tr th:only-of-type {\n",
       "        vertical-align: middle;\n",
       "    }\n",
       "\n",
       "    .dataframe tbody tr th {\n",
       "        vertical-align: top;\n",
       "    }\n",
       "\n",
       "    .dataframe thead th {\n",
       "        text-align: right;\n",
       "    }\n",
       "</style>\n",
       "<table border=\"1\" class=\"dataframe\">\n",
       "  <thead>\n",
       "    <tr style=\"text-align: right;\">\n",
       "      <th></th>\n",
       "      <th>date</th>\n",
       "      <th>Temperature (C)</th>\n",
       "      <th>Humidity</th>\n",
       "      <th>Wind Speed (km/h)</th>\n",
       "      <th>Visibility (km)</th>\n",
       "      <th>Rainfall</th>\n",
       "      <th>Pressure (millibars)</th>\n",
       "    </tr>\n",
       "  </thead>\n",
       "  <tbody>\n",
       "    <tr>\n",
       "      <th>0</th>\n",
       "      <td>2006-03-31 22:00:00+00:00</td>\n",
       "      <td>9.472222</td>\n",
       "      <td>0.89</td>\n",
       "      <td>14.1197</td>\n",
       "      <td>15.8263</td>\n",
       "      <td>15.501725</td>\n",
       "      <td>1015.13</td>\n",
       "    </tr>\n",
       "    <tr>\n",
       "      <th>1</th>\n",
       "      <td>2006-03-31 23:00:00+00:00</td>\n",
       "      <td>9.355556</td>\n",
       "      <td>0.86</td>\n",
       "      <td>14.2646</td>\n",
       "      <td>15.8263</td>\n",
       "      <td>8.833681</td>\n",
       "      <td>1015.63</td>\n",
       "    </tr>\n",
       "    <tr>\n",
       "      <th>2</th>\n",
       "      <td>2006-04-01 00:00:00+00:00</td>\n",
       "      <td>9.377778</td>\n",
       "      <td>0.89</td>\n",
       "      <td>3.9284</td>\n",
       "      <td>14.9569</td>\n",
       "      <td>17.186099</td>\n",
       "      <td>1015.94</td>\n",
       "    </tr>\n",
       "    <tr>\n",
       "      <th>3</th>\n",
       "      <td>2006-04-01 01:00:00+00:00</td>\n",
       "      <td>8.288889</td>\n",
       "      <td>0.83</td>\n",
       "      <td>14.1036</td>\n",
       "      <td>15.8263</td>\n",
       "      <td>13.977624</td>\n",
       "      <td>1016.41</td>\n",
       "    </tr>\n",
       "    <tr>\n",
       "      <th>4</th>\n",
       "      <td>2006-04-01 02:00:00+00:00</td>\n",
       "      <td>8.755556</td>\n",
       "      <td>0.83</td>\n",
       "      <td>11.0446</td>\n",
       "      <td>15.8263</td>\n",
       "      <td>1.974129</td>\n",
       "      <td>1016.51</td>\n",
       "    </tr>\n",
       "  </tbody>\n",
       "</table>\n",
       "</div>"
      ],
      "text/plain": [
       "                       date  Temperature (C)  Humidity  Wind Speed (km/h)  \\\n",
       "0 2006-03-31 22:00:00+00:00         9.472222      0.89            14.1197   \n",
       "1 2006-03-31 23:00:00+00:00         9.355556      0.86            14.2646   \n",
       "2 2006-04-01 00:00:00+00:00         9.377778      0.89             3.9284   \n",
       "3 2006-04-01 01:00:00+00:00         8.288889      0.83            14.1036   \n",
       "4 2006-04-01 02:00:00+00:00         8.755556      0.83            11.0446   \n",
       "\n",
       "   Visibility (km)   Rainfall  Pressure (millibars)  \n",
       "0          15.8263  15.501725               1015.13  \n",
       "1          15.8263   8.833681               1015.63  \n",
       "2          14.9569  17.186099               1015.94  \n",
       "3          15.8263  13.977624               1016.41  \n",
       "4          15.8263   1.974129               1016.51  "
      ]
     },
     "execution_count": 8,
     "metadata": {},
     "output_type": "execute_result"
    }
   ],
   "source": [
    "# Load dataset\n",
    "df = pd.read_csv(\"C:\\\\Users\\\\ANIS\\\\Downloads\\\\Weather forcast ML\\\\weather.csv\")\n",
    "\n",
    "# Show actual column names\n",
    "print(\"Columns:\", df.columns.tolist())\n",
    "\n",
    "# Convert datetime\n",
    "df['date'] = pd.to_datetime(df['date'], errors=\"coerce\", utc=True)\n",
    "\n",
    "# Keep required columns\n",
    "df_main = df[['date', \n",
    "              'Temperature (C)', \n",
    "              'Humidity', \n",
    "              'Wind Speed (km/h)', \n",
    "              'Visibility (km)', \n",
    "              'Rainfall', \n",
    "              'Pressure (millibars)']]\n",
    "\n",
    "# Drop missing rows\n",
    "df_main = df_main.dropna()\n",
    "\n",
    "print(\"Shape after cleaning:\", df_main.shape)\n",
    "df_main.head()\n"
   ]
  },
  {
   "cell_type": "code",
   "execution_count": 9,
   "id": "4e2ca68a-974b-4bf1-8b3d-65930fbcb866",
   "metadata": {
    "tags": []
   },
   "outputs": [
    {
     "data": {
      "text/html": [
       "<div>\n",
       "<style scoped>\n",
       "    .dataframe tbody tr th:only-of-type {\n",
       "        vertical-align: middle;\n",
       "    }\n",
       "\n",
       "    .dataframe tbody tr th {\n",
       "        vertical-align: top;\n",
       "    }\n",
       "\n",
       "    .dataframe thead th {\n",
       "        text-align: right;\n",
       "    }\n",
       "</style>\n",
       "<table border=\"1\" class=\"dataframe\">\n",
       "  <thead>\n",
       "    <tr style=\"text-align: right;\">\n",
       "      <th></th>\n",
       "      <th>date</th>\n",
       "      <th>Rainfall</th>\n",
       "      <th>Temperature (C)</th>\n",
       "      <th>Humidity</th>\n",
       "      <th>Wind Speed (km/h)</th>\n",
       "      <th>Visibility (km)</th>\n",
       "      <th>Pressure (millibars)</th>\n",
       "    </tr>\n",
       "  </thead>\n",
       "  <tbody>\n",
       "    <tr>\n",
       "      <th>0</th>\n",
       "      <td>2006-03-31 22:00:00</td>\n",
       "      <td>15.501725</td>\n",
       "      <td>9.472222</td>\n",
       "      <td>0.89</td>\n",
       "      <td>14.1197</td>\n",
       "      <td>15.8263</td>\n",
       "      <td>1015.13</td>\n",
       "    </tr>\n",
       "    <tr>\n",
       "      <th>1</th>\n",
       "      <td>2006-03-31 23:00:00</td>\n",
       "      <td>8.833681</td>\n",
       "      <td>9.355556</td>\n",
       "      <td>0.86</td>\n",
       "      <td>14.2646</td>\n",
       "      <td>15.8263</td>\n",
       "      <td>1015.63</td>\n",
       "    </tr>\n",
       "    <tr>\n",
       "      <th>2</th>\n",
       "      <td>2006-04-01 00:00:00</td>\n",
       "      <td>17.186099</td>\n",
       "      <td>9.377778</td>\n",
       "      <td>0.89</td>\n",
       "      <td>3.9284</td>\n",
       "      <td>14.9569</td>\n",
       "      <td>1015.94</td>\n",
       "    </tr>\n",
       "    <tr>\n",
       "      <th>3</th>\n",
       "      <td>2006-04-01 01:00:00</td>\n",
       "      <td>13.977624</td>\n",
       "      <td>8.288889</td>\n",
       "      <td>0.83</td>\n",
       "      <td>14.1036</td>\n",
       "      <td>15.8263</td>\n",
       "      <td>1016.41</td>\n",
       "    </tr>\n",
       "    <tr>\n",
       "      <th>4</th>\n",
       "      <td>2006-04-01 02:00:00</td>\n",
       "      <td>1.974129</td>\n",
       "      <td>8.755556</td>\n",
       "      <td>0.83</td>\n",
       "      <td>11.0446</td>\n",
       "      <td>15.8263</td>\n",
       "      <td>1016.51</td>\n",
       "    </tr>\n",
       "  </tbody>\n",
       "</table>\n",
       "</div>"
      ],
      "text/plain": [
       "                 date   Rainfall  Temperature (C)  Humidity  \\\n",
       "0 2006-03-31 22:00:00  15.501725         9.472222      0.89   \n",
       "1 2006-03-31 23:00:00   8.833681         9.355556      0.86   \n",
       "2 2006-04-01 00:00:00  17.186099         9.377778      0.89   \n",
       "3 2006-04-01 01:00:00  13.977624         8.288889      0.83   \n",
       "4 2006-04-01 02:00:00   1.974129         8.755556      0.83   \n",
       "\n",
       "   Wind Speed (km/h)  Visibility (km)  Pressure (millibars)  \n",
       "0            14.1197          15.8263               1015.13  \n",
       "1            14.2646          15.8263               1015.63  \n",
       "2             3.9284          14.9569               1015.94  \n",
       "3            14.1036          15.8263               1016.41  \n",
       "4            11.0446          15.8263               1016.51  "
      ]
     },
     "execution_count": 9,
     "metadata": {},
     "output_type": "execute_result"
    }
   ],
   "source": [
    "# Parse with timezone info\n",
    "df['date'] = pd.to_datetime(df['date'], utc=True, errors=\"coerce\")\n",
    "\n",
    "# Remove timezone, keep naive datetime\n",
    "df['date'] = df['date'].dt.tz_convert(None)\n",
    "df.head()"
   ]
  },
  {
   "cell_type": "code",
   "execution_count": 10,
   "id": "ed0d1d48",
   "metadata": {
    "tags": []
   },
   "outputs": [],
   "source": [
    "def forecast_feature(df, column, periods=30):\n",
    "    \"\"\"\n",
    "    Forecast a single feature using Prophet.\n",
    "    \"\"\"\n",
    "    # Ensure datetime has no timezone\n",
    "    df['date'] = pd.to_datetime(df['date'], errors=\"coerce\").dt.tz_localize(None)\n",
    "\n",
    "    df_temp = df[['date', column]].rename(columns={\n",
    "        'date': 'ds',\n",
    "        column: 'y'\n",
    "    }).dropna()\n",
    "\n",
    "    if df_temp.shape[0] < 2:\n",
    "        raise ValueError(f\"⚠️ Not enough data for {column}.\")\n",
    "    \n",
    "    model = Prophet()\n",
    "    model.fit(df_temp)\n",
    "\n",
    "    # Future dates\n",
    "    future = model.make_future_dataframe(periods=periods)\n",
    "    forecast = model.predict(future)\n",
    "\n",
    "    # Plot forecast\n",
    "    fig = model.plot(forecast)\n",
    "    plt.title(f\"{column} Forecast\")\n",
    "    plt.show()\n",
    "\n",
    "    return forecast\n"
   ]
  },
  {
   "cell_type": "code",
   "execution_count": 11,
   "id": "ce99cb38-9080-4e13-b2c1-3381c0201330",
   "metadata": {
    "tags": []
   },
   "outputs": [
    {
     "name": "stdout",
     "output_type": "stream",
     "text": [
      "API Key loaded? True\n"
     ]
    }
   ],
   "source": [
    "from dotenv import load_dotenv\n",
    "import os\n",
    "\n",
    "load_dotenv(dotenv_path=r\"C:\\\\Users\\\\ANIS\\\\Downloads\\\\Weather forcast ML\\\\.env\")\n",
    "API_KEY = os.getenv(\"OPENWEATHER_API_KEY\")\n",
    "print(\"API Key loaded?\", bool(API_KEY))\n",
    "\n"
   ]
  },
  {
   "cell_type": "code",
   "execution_count": 12,
   "id": "efc3a4b5-12d7-4a42-89d8-54eec01a2c9a",
   "metadata": {
    "tags": []
   },
   "outputs": [
    {
     "name": "stdout",
     "output_type": "stream",
     "text": [
      "🌤 Live Weather Data: {'coord': {'lon': 77.2167, 'lat': 28.6667}, 'weather': [{'id': 701, 'main': 'Mist', 'description': 'mist', 'icon': '50n'}], 'base': 'stations', 'main': {'temp': 27.05, 'feels_like': 30.77, 'temp_min': 27.05, 'temp_max': 27.05, 'pressure': 1004, 'humidity': 89, 'sea_level': 1004, 'grnd_level': 979}, 'visibility': 3000, 'wind': {'speed': 3.09, 'deg': 80}, 'clouds': {'all': 40}, 'dt': 1758144716, 'sys': {'type': 1, 'id': 9165, 'country': 'IN', 'sunrise': 1758155851, 'sunset': 1758200000}, 'timezone': 19800, 'id': 1273294, 'name': 'Delhi', 'cod': 200}\n"
     ]
    }
   ],
   "source": [
    "CITY = \"Delhi\"  # change as needed\n",
    "\n",
    "if API_KEY:\n",
    "    url = f\"http://api.openweathermap.org/data/2.5/weather?q={CITY}&appid={API_KEY}&units=metric\"\n",
    "    try:\n",
    "        res = requests.get(url)\n",
    "        res.raise_for_status()  # raises error for bad responses\n",
    "        data = res.json()\n",
    "        print(\"🌤 Live Weather Data:\", data)\n",
    "    except requests.exceptions.RequestException as e:\n",
    "        print(\"⚠️ Request failed:\", e)\n",
    "else:\n",
    "    print(\"⚠️ Please add OPENWEATHER_API_KEY in your .env file\")\n"
   ]
  },
  {
   "cell_type": "code",
   "execution_count": null,
   "id": "455dd1df-c444-43cc-92ee-1c99a5c3c656",
   "metadata": {},
   "outputs": [],
   "source": []
  }
 ],
 "metadata": {
  "kernelspec": {
   "display_name": ".venv",
   "language": "python",
   "name": "python3"
  },
  "language_info": {
   "codemirror_mode": {
    "name": "ipython",
    "version": 3
   },
   "file_extension": ".py",
   "mimetype": "text/x-python",
   "name": "python",
   "nbconvert_exporter": "python",
   "pygments_lexer": "ipython3",
   "version": "3.12.2"
  }
 },
 "nbformat": 4,
 "nbformat_minor": 5
}
